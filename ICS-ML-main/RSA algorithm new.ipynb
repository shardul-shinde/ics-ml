{
 "cells": [
  {
   "cell_type": "code",
   "execution_count": 16,
   "metadata": {},
   "outputs": [
    {
     "name": "stdout",
     "output_type": "stream",
     "text": [
      "Enter prime no p:11\n",
      "Enter prime no q:3\n",
      "The value of n is : 33\n",
      "The value of phi is : 20\n",
      "The value of e is : 3\n",
      "The value of d is : 7\n",
      "Public key : [ 3 , 33 ]\n",
      "Private key : [ 7 , 33 ]\n",
      "Enter plaintext P such that P < n :3\n",
      "Encrypted message is: 27\n",
      "Decrypted message is: 3\n"
     ]
    }
   ],
   "source": [
    "p = int(input('Enter prime no p:'))\n",
    "q = int(input('Enter prime no q:'))\n",
    "\n",
    "n = p*q\n",
    "print('The value of n is :',n)\n",
    "\n",
    "phi = (p-1)*(q-1)\n",
    "print('The value of phi is :',phi)\n",
    "\n",
    "def gcd(a,b):\n",
    "    while b!= 0:\n",
    "        a, b = b, a % b\n",
    "    return a\n",
    "\n",
    "for e in range(2,phi):\n",
    "    if gcd(e,phi) == 1:\n",
    "        break;\n",
    "    \n",
    "print('The value of e is :',e)\n",
    "\n",
    "d = phi + 1\n",
    "i = 2 \n",
    "while d % e != 0:\n",
    "    d = (phi * i) + 1\n",
    "    i = i + 1\n",
    "   \n",
    "d = d//e\n",
    "print('The value of d is :',d)\n",
    "\n",
    "print ('Public key : [', e,',',n,']')\n",
    "print ('Private key : [', d,',',n,']')\n",
    "\n",
    "P = int(input('Enter plaintext P such that P < n :'))\n",
    "\n",
    "C = pow(P,e,n)\n",
    "print('Encrypted message is:',C)\n",
    "\n",
    "P = pow(C,d,n)\n",
    "print('Decrypted message is:',P)\n",
    "\n"
   ]
  },
  {
   "cell_type": "code",
   "execution_count": null,
   "metadata": {},
   "outputs": [],
   "source": []
  }
 ],
 "metadata": {
  "kernelspec": {
   "display_name": "Python 3",
   "language": "python",
   "name": "python3"
  },
  "language_info": {
   "codemirror_mode": {
    "name": "ipython",
    "version": 3
   },
   "file_extension": ".py",
   "mimetype": "text/x-python",
   "name": "python",
   "nbconvert_exporter": "python",
   "pygments_lexer": "ipython3",
   "version": "3.8.3"
  }
 },
 "nbformat": 4,
 "nbformat_minor": 4
}
