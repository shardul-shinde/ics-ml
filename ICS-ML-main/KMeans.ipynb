{
 "cells": [
  {
   "cell_type": "code",
   "execution_count": 1,
   "metadata": {
    "colab": {
     "base_uri": "https://localhost:8080/"
    },
    "id": "FgFG7yscaptd",
    "outputId": "bd503fd3-1546-4370-9a94-54be47219954"
   },
   "outputs": [
    {
     "name": "stdout",
     "output_type": "stream",
     "text": [
      "      X     Y\n",
      "0  0.10  0.60\n",
      "1  0.15  0.71\n",
      "2  0.08  0.90\n",
      "3  0.16  0.85\n",
      "4  0.20  0.30\n",
      "5  0.25  0.50\n",
      "6  0.24  0.10\n",
      "7  0.30  0.20\n"
     ]
    }
   ],
   "source": [
    "#import packages\n",
    "import numpy as np\n",
    "import matplotlib.pyplot as plt\n",
    "import pandas as pd\n",
    "\n",
    "#read dataset \n",
    "dataset = pd.read_csv(\"Kmeans_dataset.csv\")\n",
    "print(dataset)"
   ]
  },
  {
   "cell_type": "code",
   "execution_count": 2,
   "metadata": {
    "colab": {
     "base_uri": "https://localhost:8080/"
    },
    "id": "Z6WV_jJHgNab",
    "outputId": "a4c0b2f0-5588-4088-8bc5-42e084434fb8"
   },
   "outputs": [
    {
     "name": "stdout",
     "output_type": "stream",
     "text": [
      "[[0.1  0.6 ]\n",
      " [0.15 0.71]\n",
      " [0.08 0.9 ]\n",
      " [0.16 0.85]\n",
      " [0.2  0.3 ]\n",
      " [0.25 0.5 ]\n",
      " [0.24 0.1 ]\n",
      " [0.3  0.2 ]]\n"
     ]
    }
   ],
   "source": [
    "f1 = dataset['X'].values\n",
    "f2 = dataset['Y'].values\n",
    "x = np.array(list(zip(f1, f2)))\n",
    "print(x)"
   ]
  },
  {
   "cell_type": "code",
   "execution_count": 3,
   "metadata": {
    "colab": {
     "base_uri": "https://localhost:8080/"
    },
    "id": "MUxPYR6ngVPp",
    "outputId": "72f3e899-4145-4948-edd5-be3b9d8a5893"
   },
   "outputs": [
    {
     "name": "stdout",
     "output_type": "stream",
     "text": [
      "[[0.1 0.6]\n",
      " [0.3 0.2]]\n"
     ]
    }
   ],
   "source": [
    "# initial centroid points\n",
    "centers = np.array([[0.1,0.6],[0.3,0.2]])\n",
    "print(centers)"
   ]
  },
  {
   "cell_type": "code",
   "execution_count": 4,
   "metadata": {
    "colab": {
     "base_uri": "https://localhost:8080/"
    },
    "id": "y5l2QstDgke0",
    "outputId": "82ec242d-d15e-4ace-e24a-b2d6b37b92f7"
   },
   "outputs": [
    {
     "name": "stdout",
     "output_type": "stream",
     "text": [
      "[0 0 0 0 1 0 1 1]\n"
     ]
    }
   ],
   "source": [
    "# Apply K-Means Clustering\n",
    "from sklearn.cluster import KMeans \n",
    "model = KMeans(n_clusters=2, init=centers, n_init=1)\n",
    "# n_clusters = number of clusters\n",
    "# init = initial centroids\n",
    "# n_init = number of init parameter\n",
    "\n",
    "#train the algorithm\n",
    "model.fit(x)\n",
    "\n",
    "# print labels\n",
    "print(model.labels_)\n",
    "\n",
    "# output : [0 0 0 0 1 0 1 1]\n",
    "# 0 --> cluster no. 1 and 1 --> cluster no. 2"
   ]
  },
  {
   "cell_type": "code",
   "execution_count": 5,
   "metadata": {
    "colab": {
     "base_uri": "https://localhost:8080/"
    },
    "id": "tNBnMHV5iHza",
    "outputId": "11f0fc97-47f1-499d-ef4f-9d3f2989ee34"
   },
   "outputs": [
    {
     "name": "stdout",
     "output_type": "stream",
     "text": [
      "3\n"
     ]
    }
   ],
   "source": [
    "# population around cluster 2\n",
    "print(np.count_nonzero(model.labels_ == 1))"
   ]
  },
  {
   "cell_type": "code",
   "execution_count": 6,
   "metadata": {
    "colab": {
     "base_uri": "https://localhost:8080/"
    },
    "id": "jPygZNzvi_p1",
    "outputId": "f4883fa2-468f-4c27-ffa2-c8e668055326"
   },
   "outputs": [
    {
     "name": "stdout",
     "output_type": "stream",
     "text": [
      "[[0.148      0.712     ]\n",
      " [0.24666667 0.2       ]]\n"
     ]
    }
   ],
   "source": [
    "# new centroids \n",
    "print(model.cluster_centers_)"
   ]
  },
  {
   "cell_type": "code",
   "execution_count": 7,
   "metadata": {
    "colab": {
     "base_uri": "https://localhost:8080/",
     "height": 282
    },
    "id": "m2GhHiT3jQoX",
    "outputId": "09dc5479-8755-471c-885e-94c8af2ab242"
   },
   "outputs": [
    {
     "data": {
      "text/plain": [
       "<matplotlib.collections.PathCollection at 0x1f2874b18b0>"
      ]
     },
     "execution_count": 7,
     "metadata": {},
     "output_type": "execute_result"
    },
    {
     "data": {
      "image/png": "[encoded data removed]",
      "text/plain": [
       "<Figure size 432x288 with 1 Axes>"
      ]
     },
     "metadata": {
      "needs_background": "light"
     },
     "output_type": "display_data"
    }
   ],
   "source": [
    "# Cluster with initial centroids\n",
    "C_x = np.array([0.1, 0.3])\n",
    "C_y = np.array([0.6, 0.2]) \n",
    "plt.scatter(f1, f2, c='#050505', s=7)\n",
    "plt.scatter(C_x, C_y, marker='*', s=200, c='g')"
   ]
  },
  {
   "cell_type": "code",
   "execution_count": 8,
   "metadata": {
    "colab": {
     "base_uri": "https://localhost:8080/",
     "height": 282
    },
    "id": "d9h0UjohlMwt",
    "outputId": "989123cf-3d42-4b19-fc30-8abc4dc4fc21"
   },
   "outputs": [
    {
     "data": {
      "text/plain": [
       "<matplotlib.collections.PathCollection at 0x1f2875f0520>"
      ]
     },
     "execution_count": 8,
     "metadata": {},
     "output_type": "execute_result"
    },
    {
     "data": {
      "image/png": "[encoded data removed]",
      "text/plain": [
       "<Figure size 432x288 with 1 Axes>"
      ]
     },
     "metadata": {
      "needs_background": "light"
     },
     "output_type": "display_data"
    }
   ],
   "source": [
    "# cluster with new centroids \n",
    "N_x = np.array([model.cluster_centers_[0][0], model.cluster_centers_[1][0]])\n",
    "N_y = np.array([model.cluster_centers_[0][1],model.cluster_centers_[1][1]])\n",
    "plt.scatter(f1, f2, c='#050505', s=7)\n",
    "plt.scatter(N_x, N_y, marker='*', s=200, c='g')"
   ]
  },
  {
   "cell_type": "code",
   "execution_count": null,
   "metadata": {},
   "outputs": [],
   "source": []
  }
 ],
 "metadata": {
  "colab": {
   "name": "KMeans.ipynb",
   "provenance": []
  },
  "kernelspec": {
   "display_name": "Python 3 (ipykernel)",
   "language": "python",
   "name": "python3"
  },
  "language_info": {
   "codemirror_mode": {
    "name": "ipython",
    "version": 3
   },
   "file_extension": ".py",
   "mimetype": "text/x-python",
   "name": "python",
   "nbconvert_exporter": "python",
   "pygments_lexer": "ipython3",
   "version": "3.9.7"
  }
 },
 "nbformat": 4,
 "nbformat_minor": 1
}
