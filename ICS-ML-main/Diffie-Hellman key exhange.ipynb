{
 "cells": [
  {
   "cell_type": "code",
   "execution_count": 5,
   "id": "243fb1f5",
   "metadata": {},
   "outputs": [
    {
     "name": "stdout",
     "output_type": "stream",
     "text": [
      "The value of p is: 27\n",
      "The value of g is: 13\n",
      "The Private key for a is: 7\n",
      "The Private key for b is: 2\n",
      "Secret key for a is: 16\n",
      "Secret key for b is: 16\n"
     ]
    }
   ],
   "source": [
    "p = 27\n",
    "g = 13\n",
    "\n",
    "print(f'The value of p is: {p}')\n",
    "print(f'The value of g is: {g}')\n",
    "\n",
    "a = 7\n",
    "print(f'The Private key for a is: {a}')\n",
    "x = int(pow(g,a,p))\n",
    "\n",
    "b = 2\n",
    "print(f'The Private key for b is: {b}')\n",
    "y = int(pow(g,b,p))\n",
    "\n",
    "ka = int(pow(y,a,p))\n",
    "kb = int(pow(x,b,p))\n",
    "\n",
    "print(f'Secret key for a is: {ka}')\n",
    "print(f'Secret key for b is: {kb}')"
   ]
  },
  {
   "cell_type": "code",
   "execution_count": null,
   "id": "23bf5dfe",
   "metadata": {},
   "outputs": [],
   "source": []
  },
  {
   "cell_type": "code",
   "execution_count": null,
   "id": "39b041a9",
   "metadata": {},
   "outputs": [],
   "source": []
  }
 ],
 "metadata": {
  "kernelspec": {
   "display_name": "Python 3 (ipykernel)",
   "language": "python",
   "name": "python3"
  },
  "language_info": {
   "codemirror_mode": {
    "name": "ipython",
    "version": 3
   },
   "file_extension": ".py",
   "mimetype": "text/x-python",
   "name": "python",
   "nbconvert_exporter": "python",
   "pygments_lexer": "ipython3",
   "version": "3.9.7"
  }
 },
 "nbformat": 4,
 "nbformat_minor": 5
}
