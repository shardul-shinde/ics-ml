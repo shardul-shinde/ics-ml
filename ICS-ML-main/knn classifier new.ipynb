{
 "cells": [
  {
   "cell_type": "code",
   "execution_count": 1,
   "metadata": {},
   "outputs": [],
   "source": [
    "# import packages\n",
    "import numpy as np\n",
    "import pandas as pd\n",
    "from sklearn.neighbors import KNeighborsClassifier "
   ]
  },
  {
   "cell_type": "code",
   "execution_count": 2,
   "metadata": {},
   "outputs": [],
   "source": [
    "# create dataset\n",
    "x = [[2, 4], [4, 4], [4, 6], [4, 2], [6, 2], [6, 4], [8, 2]]\n",
    "y = [\"Orange\", \"Blue\", \"Orange\", \"Orange\", \"Blue\", \"Orange\", \"Blue\"]"
   ]
  },
  {
   "cell_type": "code",
   "execution_count": 3,
   "metadata": {},
   "outputs": [],
   "source": [
    "classifier = KNeighborsClassifier(n_neighbors=3)  #n_neighbors indicates 'K'"
   ]
  },
  {
   "cell_type": "code",
   "execution_count": 4,
   "metadata": {},
   "outputs": [
    {
     "data": {
      "text/plain": [
       "KNeighborsClassifier(n_neighbors=3)"
      ]
     },
     "execution_count": 4,
     "metadata": {},
     "output_type": "execute_result"
    }
   ],
   "source": [
    "# train the algorithm\n",
    "classifier.fit(x,y)"
   ]
  },
  {
   "cell_type": "code",
   "execution_count": 15,
   "metadata": {},
   "outputs": [
    {
     "name": "stdout",
     "output_type": "stream",
     "text": [
      "General KNN class : ['Orange']\n"
     ]
    }
   ],
   "source": [
    "# predict class for points (6,6) \n",
    "x_test = np.array([6,6]) \n",
    "y_pred = classifier.predict([x_test]) \n",
    "print(\"General KNN class :\",y_pred)"
   ]
  },
  {
   "cell_type": "code",
   "execution_count": 16,
   "metadata": {},
   "outputs": [],
   "source": [
    "classifier1 = KNeighborsClassifier(n_neighbors=3, weights = 'distance')"
   ]
  },
  {
   "cell_type": "code",
   "execution_count": 17,
   "metadata": {},
   "outputs": [
    {
     "data": {
      "text/plain": [
       "KNeighborsClassifier(n_neighbors=3, weights='distance')"
      ]
     },
     "execution_count": 17,
     "metadata": {},
     "output_type": "execute_result"
    }
   ],
   "source": [
    "classifier1.fit(x,y)"
   ]
  },
  {
   "cell_type": "code",
   "execution_count": 18,
   "metadata": {},
   "outputs": [
    {
     "name": "stdout",
     "output_type": "stream",
     "text": [
      "distanceWeighted KNN Class : ['Orange']\n"
     ]
    }
   ],
   "source": [
    "y_pred = classifier1.predict([x_test]) \n",
    "print(\"distanceWeighted KNN Class :\",y_pred)"
   ]
  },
  {
   "cell_type": "code",
   "execution_count": 19,
   "metadata": {},
   "outputs": [
    {
     "name": "stdout",
     "output_type": "stream",
     "text": [
      "General KNN class : ['Orange']\n",
      "distanceWeighted KNN Class : ['Orange']\n"
     ]
    }
   ],
   "source": [
    "import numpy as np\n",
    "import pandas as pd\n",
    "from sklearn.neighbors import KNeighborsClassifier \n",
    "\n",
    "# create dataset\n",
    "x = [[2, 4], [4, 4], [4, 6], [4, 2], [6, 2], [6, 4], [8, 2]]\n",
    "y = [\"Orange\", \"Blue\", \"Orange\", \"Orange\", \"Blue\", \"Orange\", \"Blue\"]\n",
    "\n",
    "classifier = KNeighborsClassifier(n_neighbors=3)  #n_neighbors indicates 'K'\n",
    "\n",
    "# train the algorithm\n",
    "classifier.fit(x,y)\n",
    "\n",
    "# predict class for points (6,6) \n",
    "x_test = np.array([6,6]) \n",
    "y_pred = classifier.predict([x_test])\n",
    "print(\"General KNN class :\",y_pred)\n",
    "\n",
    "classifier1 = KNeighborsClassifier(n_neighbors=3, weights = 'distance')\n",
    "\n",
    "classifier1.fit(x,y)\n",
    "\n",
    "y_pred = classifier1.predict([x_test]) \n",
    "print(\"distanceWeighted KNN Class :\",y_pred)"
   ]
  },
  {
   "cell_type": "code",
   "execution_count": null,
   "metadata": {},
   "outputs": [],
   "source": []
  }
 ],
 "metadata": {
  "kernelspec": {
   "display_name": "Python 3",
   "language": "python",
   "name": "python3"
  },
  "language_info": {
   "codemirror_mode": {
    "name": "ipython",
    "version": 3
   },
   "file_extension": ".py",
   "mimetype": "text/x-python",
   "name": "python",
   "nbconvert_exporter": "python",
   "pygments_lexer": "ipython3",
   "version": "3.8.3"
  }
 },
 "nbformat": 4,
 "nbformat_minor": 4
}
