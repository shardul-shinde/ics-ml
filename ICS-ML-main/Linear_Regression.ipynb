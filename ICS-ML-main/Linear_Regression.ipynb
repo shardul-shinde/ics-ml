{
 "cells": [
  {
   "cell_type": "code",
   "execution_count": 1,
   "metadata": {
    "colab": {
     "base_uri": "https://localhost:8080/",
     "height": 223
    },
    "id": "uq5sCy_yIZpA",
    "outputId": "4f48bd96-7241-43f6-b8f6-2370d5068dc8"
   },
   "outputs": [
    {
     "name": "stdout",
     "output_type": "stream",
     "text": [
      "(8, 2)\n"
     ]
    },
    {
     "data": {
      "text/html": [
       "<div>\n",
       "<style scoped>\n",
       "    .dataframe tbody tr th:only-of-type {\n",
       "        vertical-align: middle;\n",
       "    }\n",
       "\n",
       "    .dataframe tbody tr th {\n",
       "        vertical-align: top;\n",
       "    }\n",
       "\n",
       "    .dataframe thead th {\n",
       "        text-align: right;\n",
       "    }\n",
       "</style>\n",
       "<table border=\"1\" class=\"dataframe\">\n",
       "  <thead>\n",
       "    <tr style=\"text-align: right;\">\n",
       "      <th></th>\n",
       "      <th>DrivingHours</th>\n",
       "      <th>RiskScore</th>\n",
       "    </tr>\n",
       "  </thead>\n",
       "  <tbody>\n",
       "    <tr>\n",
       "      <th>0</th>\n",
       "      <td>10</td>\n",
       "      <td>95</td>\n",
       "    </tr>\n",
       "    <tr>\n",
       "      <th>1</th>\n",
       "      <td>9</td>\n",
       "      <td>80</td>\n",
       "    </tr>\n",
       "    <tr>\n",
       "      <th>2</th>\n",
       "      <td>2</td>\n",
       "      <td>10</td>\n",
       "    </tr>\n",
       "    <tr>\n",
       "      <th>3</th>\n",
       "      <td>15</td>\n",
       "      <td>50</td>\n",
       "    </tr>\n",
       "    <tr>\n",
       "      <th>4</th>\n",
       "      <td>10</td>\n",
       "      <td>45</td>\n",
       "    </tr>\n",
       "  </tbody>\n",
       "</table>\n",
       "</div>"
      ],
      "text/plain": [
       "   DrivingHours  RiskScore\n",
       "0            10         95\n",
       "1             9         80\n",
       "2             2         10\n",
       "3            15         50\n",
       "4            10         45"
      ]
     },
     "execution_count": 1,
     "metadata": {},
     "output_type": "execute_result"
    }
   ],
   "source": [
    "#import libraries\n",
    "import numpy as np\n",
    "import matplotlib.pyplot as plt\n",
    "import pandas as pd\n",
    "\n",
    "#Read dataset\n",
    "dataset = pd.read_csv(\"linear_regression_dataset.csv\")\n",
    "print(dataset.shape)\n",
    "dataset.head()"
   ]
  },
  {
   "cell_type": "code",
   "execution_count": 2,
   "metadata": {
    "colab": {
     "base_uri": "https://localhost:8080/"
    },
    "id": "lYPpdPEjNuAe",
    "outputId": "adf731cc-7f97-49f1-ef9c-e60e5915fcff"
   },
   "outputs": [
    {
     "name": "stdout",
     "output_type": "stream",
     "text": [
      "[[10]\n",
      " [ 9]\n",
      " [ 2]\n",
      " [15]\n",
      " [10]\n",
      " [16]\n",
      " [11]\n",
      " [16]]\n",
      "[95 80 10 50 45 98 38 93]\n"
     ]
    }
   ],
   "source": [
    "x = dataset.iloc[:,:-1].values\n",
    "y = dataset.iloc[:,1].values\n",
    "\n",
    "print(x)\n",
    "print(y)"
   ]
  },
  {
   "cell_type": "code",
   "execution_count": 3,
   "metadata": {
    "colab": {
     "base_uri": "https://localhost:8080/"
    },
    "id": "eQyTMvqWOTio",
    "outputId": "5e2dc5ad-279e-41fd-bf50-c7f632f2c141"
   },
   "outputs": [
    {
     "name": "stdout",
     "output_type": "stream",
     "text": [
      "Coefficient :  [4.58789861]\n",
      "intercept :  12.584627964022907\n",
      "Accuracy :  43.709481451010035\n"
     ]
    }
   ],
   "source": [
    "#import linear regression and create object of it\n",
    "from sklearn.linear_model import LinearRegression\n",
    "\n",
    "#create object of LinearRegression\n",
    "regressor = LinearRegression()\n",
    "\n",
    "#train the data\n",
    "regressor.fit(x,y) \n",
    "\n",
    "#print value of coefficient\n",
    "print(\"Coefficient : \",regressor.coef_)\n",
    "\n",
    "#print value of intercept\n",
    "print(\"intercept : \",regressor.intercept_)\n",
    "\n",
    "#calculate accuracy\n",
    "accuracy = regressor.score(x,y)*100\n",
    "print(\"Accuracy : \",accuracy)"
   ]
  },
  {
   "cell_type": "code",
   "execution_count": 4,
   "metadata": {
    "colab": {
     "base_uri": "https://localhost:8080/"
    },
    "id": "Q_tkyv_8QQMJ",
    "outputId": "fb4a19ab-9140-4bfc-a4a2-4a2944a52618"
   },
   "outputs": [
    {
     "name": "stdout",
     "output_type": "stream",
     "text": [
      "[49.28781684]\n"
     ]
    }
   ],
   "source": [
    "#predict value using regressor object\n",
    "y_pred = regressor.predict([[8]])\n",
    "print(y_pred)"
   ]
  },
  {
   "cell_type": "code",
   "execution_count": 5,
   "metadata": {
    "colab": {
     "base_uri": "https://localhost:8080/"
    },
    "id": "3ypnVIq7Qim8",
    "outputId": "618bdfb5-a310-4033-8489-a3448c63ff5e"
   },
   "outputs": [
    {
     "name": "stdout",
     "output_type": "stream",
     "text": [
      "Enter the no of hours : 10\n",
      "[58.46361406]\n"
     ]
    }
   ],
   "source": [
    "#take input from user and predict the value\n",
    "hours = int(input(\"Enter the no of hours : \"))\n",
    "predicted_value = regressor.predict([[hours]])\n",
    "print(predicted_value)"
   ]
  },
  {
   "cell_type": "code",
   "execution_count": 6,
   "metadata": {
    "colab": {
     "base_uri": "https://localhost:8080/",
     "height": 279
    },
    "id": "8guj9kWNRL29",
    "outputId": "96d129c8-7c62-4f2b-9497-da8a70a25237"
   },
   "outputs": [
    {
     "data": {
      "image/png": "[encoded data removed]",
      "text/plain": [
       "<Figure size 432x288 with 1 Axes>"
      ]
     },
     "metadata": {
      "needs_background": "light"
     },
     "output_type": "display_data"
    }
   ],
   "source": [
    "#plot the graph\n",
    "\n",
    "#plotting points \n",
    "plt.plot(x,y,'o', label=\"data point\")\n",
    "\n",
    "#plot the line\n",
    "plt.plot(x,regressor.predict(x), color='#ff0000', label='regression line')\n",
    "\n",
    "# x-axis label\n",
    "plt.xlabel('Driving Hours')\n",
    "\n",
    "#y-axis label\n",
    "plt.ylabel('Risk Score')\n",
    "\n",
    "plt.legend()\n",
    "plt.show()"
   ]
  },
  {
   "cell_type": "code",
   "execution_count": null,
   "metadata": {},
   "outputs": [],
   "source": []
  }
 ],
 "metadata": {
  "colab": {
   "name": "Linear Regression.ipynb",
   "provenance": []
  },
  "kernelspec": {
   "display_name": "Python 3 (ipykernel)",
   "language": "python",
   "name": "python3"
  },
  "language_info": {
   "codemirror_mode": {
    "name": "ipython",
    "version": 3
   },
   "file_extension": ".py",
   "mimetype": "text/x-python",
   "name": "python",
   "nbconvert_exporter": "python",
   "pygments_lexer": "ipython3",
   "version": "3.9.7"
  }
 },
 "nbformat": 4,
 "nbformat_minor": 1
}
