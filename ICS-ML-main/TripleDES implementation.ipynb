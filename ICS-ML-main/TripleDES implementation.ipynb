{
 "cells": [
  {
   "cell_type": "code",
   "execution_count": 1,
   "id": "bcfc4f6f",
   "metadata": {},
   "outputs": [
    {
     "name": "stdout",
     "output_type": "stream",
     "text": [
      "Requirement already satisfied: PyCryptodome in c:\\users\\nishant\\anaconda3\\lib\\site-packages (3.14.1)\n"
     ]
    }
   ],
   "source": [
    "!pip install PyCryptodome"
   ]
  },
  {
   "cell_type": "code",
   "execution_count": 2,
   "id": "fef06240",
   "metadata": {},
   "outputs": [],
   "source": [
    "from Crypto.Cipher import DES3\n",
    "from Crypto.Random import get_random_bytes"
   ]
  },
  {
   "cell_type": "code",
   "execution_count": 3,
   "id": "016b0cb7",
   "metadata": {},
   "outputs": [],
   "source": [
    "while True:\n",
    "    try:\n",
    "        key = DES3.adjust_key_parity(get_random_bytes(24))\n",
    "        break\n",
    "    except ValueError:\n",
    "        pass"
   ]
  },
  {
   "cell_type": "code",
   "execution_count": 4,
   "id": "80673cdf",
   "metadata": {},
   "outputs": [],
   "source": [
    "def encrypt(msg):\n",
    "    cipher = DES3.new(key,DES3.MODE_EAX)\n",
    "    nonce = cipher.nonce\n",
    "    ciphertext = cipher.encrypt(msg.encode('ascii'))\n",
    "    return nonce,ciphertext"
   ]
  },
  {
   "cell_type": "code",
   "execution_count": 5,
   "id": "cd88029d",
   "metadata": {},
   "outputs": [],
   "source": [
    "def decrypt(nonce,ciphertext):\n",
    "    cipher = DES3.new(key,DES3.MODE_EAX,nonce=nonce)\n",
    "    plaintext = cipher.decrypt(ciphertext).decode('ascii')\n",
    "    return plaintext"
   ]
  },
  {
   "cell_type": "code",
   "execution_count": 6,
   "id": "ae737409",
   "metadata": {},
   "outputs": [
    {
     "name": "stdout",
     "output_type": "stream",
     "text": [
      "Enter a message: This is sample triple des implementation\n",
      "Cipher text: b'j;cA\\xac\\xea\\xcb\\x15u\\x84\\xd7\\x99\\xd7pR\\xf0\\x9c\\xa1\\xe1Q\\xef\\x00\"\\x95\\xe6{K-v\\xcf0\\xb3\\xf6L\\xa7n\\xd2\\xa3$8'\n",
      "Plain text: This is sample triple des implementation\n"
     ]
    }
   ],
   "source": [
    "nonce,ciphertext = encrypt(input(\"Enter a message: \"))\n",
    "plaintext = decrypt(nonce,ciphertext)\n",
    "\n",
    "print(f'Cipher text: {ciphertext}')\n",
    "print(f'Plain text: {plaintext}')"
   ]
  },
  {
   "cell_type": "code",
   "execution_count": null,
   "id": "75656eda",
   "metadata": {},
   "outputs": [],
   "source": []
  }
 ],
 "metadata": {
  "kernelspec": {
   "display_name": "Python 3 (ipykernel)",
   "language": "python",
   "name": "python3"
  },
  "language_info": {
   "codemirror_mode": {
    "name": "ipython",
    "version": 3
   },
   "file_extension": ".py",
   "mimetype": "text/x-python",
   "name": "python",
   "nbconvert_exporter": "python",
   "pygments_lexer": "ipython3",
   "version": "3.9.7"
  }
 },
 "nbformat": 4,
 "nbformat_minor": 5
}
