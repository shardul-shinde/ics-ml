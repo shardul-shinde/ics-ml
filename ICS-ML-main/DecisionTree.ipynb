{
 "cells": [
  {
   "cell_type": "code",
   "execution_count": 1,
   "metadata": {
    "colab": {
     "base_uri": "https://localhost:8080/"
    },
    "id": "UFw1EROQRfgO",
    "outputId": "a6595ab0-95c6-4191-94b6-4162a84d42ca"
   },
   "outputs": [
    {
     "name": "stdout",
     "output_type": "stream",
     "text": [
      "    AGE  INCOME  Gender  Maritial  Buys\n",
      "0     1       0       1         1     0\n",
      "1     1       0       1         0     0\n",
      "2     0       0       1         1     1\n",
      "3     2       2       1         1     1\n",
      "4     2       1       0         1     1\n",
      "5     2       1       0         0     0\n",
      "6     0       1       0         0     1\n",
      "7     1       2       1         1     0\n",
      "8     1       1       0         0     1\n",
      "9     2       2       0         1     1\n",
      "10    1       2       0         0     1\n",
      "11    0       2       1         0     1\n",
      "12    0       0       0         1     1\n",
      "13    2       2       1         0     0\n"
     ]
    }
   ],
   "source": [
    "import numpy as np\n",
    "import pandas as pd\n",
    "\n",
    "#reading dataset\n",
    "dataset = pd.read_csv(\"decision_Tree_dataset.csv\")\n",
    "\n",
    "#perform label encoding\n",
    "from sklearn.preprocessing import LabelEncoder\n",
    "labelencoder_x = LabelEncoder()\n",
    "dataset = dataset.apply(LabelEncoder().fit_transform)\n",
    "print(dataset)"
   ]
  },
  {
   "cell_type": "code",
   "execution_count": 2,
   "metadata": {
    "colab": {
     "base_uri": "https://localhost:8080/"
    },
    "id": "Eo6wxpEpVQZd",
    "outputId": "4282d7d7-5d31-4328-9187-ded60215cf1e"
   },
   "outputs": [
    {
     "name": "stdout",
     "output_type": "stream",
     "text": [
      "[[1 0 1 1]\n",
      " [1 0 1 0]\n",
      " [0 0 1 1]\n",
      " [2 2 1 1]\n",
      " [2 1 0 1]\n",
      " [2 1 0 0]\n",
      " [0 1 0 0]\n",
      " [1 2 1 1]\n",
      " [1 1 0 0]\n",
      " [2 2 0 1]\n",
      " [1 2 0 0]\n",
      " [0 2 1 0]\n",
      " [0 0 0 1]\n",
      " [2 2 1 0]]\n",
      "0     0\n",
      "1     0\n",
      "2     1\n",
      "3     1\n",
      "4     1\n",
      "5     0\n",
      "6     1\n",
      "7     0\n",
      "8     1\n",
      "9     1\n",
      "10    1\n",
      "11    1\n",
      "12    1\n",
      "13    0\n",
      "Name: Buys, dtype: int32\n"
     ]
    }
   ],
   "source": [
    "x = dataset.iloc[ : ,  : -1]\n",
    "y = dataset['Buys']\n",
    "\n",
    "x = np.asarray(x)\n",
    "print(x)\n",
    "print(y)\n"
   ]
  },
  {
   "cell_type": "code",
   "execution_count": 3,
   "metadata": {
    "colab": {
     "base_uri": "https://localhost:8080/"
    },
    "id": "EUQ0tej5X5vk",
    "outputId": "861978ef-42ac-4614-9b0e-6f9395166eb7"
   },
   "outputs": [
    {
     "data": {
      "text/plain": [
       "array([0, 1])"
      ]
     },
     "execution_count": 3,
     "metadata": {},
     "output_type": "execute_result"
    }
   ],
   "source": [
    "# applying decision tree classifier\n",
    "from sklearn.tree import DecisionTreeClassifier as DTC\n",
    "\n",
    "c = DTC()\n",
    "c = c.fit(x, y)\n",
    "\n",
    "#predicting\n",
    "c.predict([[2, 0, 1, 0],[1,0,0,0]])\n",
    "\n",
    "\n",
    "#output\n",
    "# array([0, 1]) --> 0=No , 1=Yes"
   ]
  },
  {
   "cell_type": "code",
   "execution_count": null,
   "metadata": {},
   "outputs": [],
   "source": []
  }
 ],
 "metadata": {
  "colab": {
   "name": "DecisionTree.ipynb",
   "provenance": []
  },
  "kernelspec": {
   "display_name": "Python 3 (ipykernel)",
   "language": "python",
   "name": "python3"
  },
  "language_info": {
   "codemirror_mode": {
    "name": "ipython",
    "version": 3
   },
   "file_extension": ".py",
   "mimetype": "text/x-python",
   "name": "python",
   "nbconvert_exporter": "python",
   "pygments_lexer": "ipython3",
   "version": "3.9.7"
  }
 },
 "nbformat": 4,
 "nbformat_minor": 1
}
