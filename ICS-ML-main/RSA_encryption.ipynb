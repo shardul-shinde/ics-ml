{
 "cells": [
  {
   "cell_type": "code",
   "execution_count": 1,
   "id": "78ce1ff0",
   "metadata": {},
   "outputs": [
    {
     "name": "stdout",
     "output_type": "stream",
     "text": [
      "Collecting rsa\n",
      "  Downloading rsa-4.8-py3-none-any.whl (39 kB)\n",
      "Collecting pyasn1>=0.1.3\n",
      "  Using cached pyasn1-0.4.8-py2.py3-none-any.whl (77 kB)\n",
      "Installing collected packages: pyasn1, rsa\n",
      "Successfully installed pyasn1-0.4.8 rsa-4.8\n"
     ]
    }
   ],
   "source": [
    "!pip install rsa"
   ]
  },
  {
   "cell_type": "code",
   "execution_count": 1,
   "id": "bd894f1d",
   "metadata": {},
   "outputs": [],
   "source": [
    "import rsa"
   ]
  },
  {
   "cell_type": "code",
   "execution_count": 2,
   "id": "76b92a42",
   "metadata": {},
   "outputs": [],
   "source": [
    "def generate_keys():\n",
    "    (pubKey,privKey) = rsa.newkeys(1024)\n",
    "    \"\"\"A PEM file is a Base64-encoded certificate file \n",
    "    used to authenticate a secure website, so we will save our keys in PEM files\n",
    "    create a separate folder of keys in same directory as that of this code \n",
    "    \"\"\"\n",
    "    # save public & private key in folder with write bytes mode\n",
    "    with open('keys/pubkey.pem','wb') as f: \n",
    "        f.write(pubKey.save_pkcs1('PEM'))\n",
    "        \n",
    "    with open('keys/privkey.pem','wb') as f:\n",
    "        f.write(privKey.save_pkcs1('PEM'))"
   ]
  },
  {
   "cell_type": "code",
   "execution_count": 3,
   "id": "3f0012bf",
   "metadata": {},
   "outputs": [],
   "source": [
    "def load_keys():\n",
    "    \n",
    "    # load public and private key from folder in read bytes mode\n",
    "    with open('keys/pubKey.pem','rb') as f:\n",
    "        pubKey = rsa.PublicKey.load_pkcs1(f.read())\n",
    "        \n",
    "    with open('keys/privKey.pem','rb') as f:\n",
    "        privKey = rsa.PrivateKey.load_pkcs1(f.read())\n",
    "        \n",
    "    return pubKey,privKey"
   ]
  },
  {
   "cell_type": "code",
   "execution_count": 4,
   "id": "2851e96f",
   "metadata": {},
   "outputs": [],
   "source": [
    "def encrypt(msg,key):\n",
    "    return rsa.encrypt(msg.encode('ascii'),key)"
   ]
  },
  {
   "cell_type": "code",
   "execution_count": 5,
   "id": "ad84f3e1",
   "metadata": {},
   "outputs": [],
   "source": [
    "def decrypt(ciphertext,key):\n",
    "    try:\n",
    "        return rsa.decrypt(ciphertext,key).decode('ascii')\n",
    "    except:\n",
    "        return False"
   ]
  },
  {
   "cell_type": "code",
   "execution_count": 6,
   "id": "ee5134a2",
   "metadata": {},
   "outputs": [],
   "source": [
    "def sign_sha1(msg,key):\n",
    "    \"\"\" sign with sha-256 hash function, SHA-256 is hashing algorithm\n",
    "    \"\"\"\n",
    "    return rsa.sign(msg.encode('ascii'),key,'SHA-256')"
   ]
  },
  {
   "cell_type": "code",
   "execution_count": 7,
   "id": "6d90a735",
   "metadata": {},
   "outputs": [],
   "source": [
    "def verify_sha1(msg,signature,key):\n",
    "    \"\"\" rsa verify will return key has\n",
    "    been signed using which hashing algorithm\n",
    "    \"\"\"\n",
    "    try:\n",
    "        return rsa.verify(msg.encode('ascii'),signature,key) == 'SHA-256'\n",
    "    except:\n",
    "        return False"
   ]
  },
  {
   "cell_type": "code",
   "execution_count": 8,
   "id": "d0927ae3",
   "metadata": {},
   "outputs": [
    {
     "name": "stdout",
     "output_type": "stream",
     "text": [
      "Enter a message: Nishant Inamdar with SHA-256\n",
      "Cipher text: b\"6\\x88'\\x0f=\\xb7'\\x94\\xe2\\x931z\\xac\\xe6\\x8a\\xda\\x03ET\\xab5\\x99\\xd02(y!\\xc7\\x92\\x18_G\\xfb\\xfb\\xe1=\\x16\\x16*\\x84QR\\xe1\\xed\\xa9H{#I\\x03`4Fm\\x04`\\xbef\\xf3\\xe4\\xf4!\\xbc\\xd8\\x95l\\xe5\\n\\xd9q\\xb9\\xd7gTsrU\\xc5p\\xff\\xf4\\xceg\\xe5\\xa7\\x918\\xb9\\xd2P\\xcd\\xe6\\x8aI>[A\\xcb\\x99&C\\xa3[\\x9e\\xc0\\xd8~F\\xa2\\xe4{:%v\\xf1~\\x04\\x89y[t\\x07o/\\x9e\\xf4\\xe8\\xb2\" \n",
      "\n",
      "Signature: b\"\\xadw\\xbf\\xa6f\\xccf\\x15\\xf9<\\x90\\xc8z\\x83\\x1d\\xc0\\xea\\x9e\\xc5\\x1d\\xed\\xfd\\xac\\x19\\xc4^\\xe1\\x8a\\xc5\\xe0\\x945\\x92FM\\xe9v<\\xcb\\xe8Dl`\\x17\\x8b\\x8d\\xe3\\x89\\xdd\\x12\\xeb\\xb5,\\xa7t\\xf1I\\xb3-\\xe5\\x92\\xa8IWsCydy,\\x18P\\xa7\\x92n\\xfe\\n\\xeb\\xf8\\x02\\x0b\\xa7%Re\\xd0\\x10E\\xe2'y\\x03\\x83\\x9f7J\\x1c\\xe1\\n\\x92\\x07'\\xd3\\x00\\x80\\xb7Pzq\\xdd\\x0cX\\xc0\\xc3)_t$\\x88\\xe9\\x11<\\xb5\\xd44i\\xde#\" \n",
      "\n",
      "Plaintext: Nishant Inamdar with SHA-256 \n",
      "\n",
      "Signature verified!!! \n",
      "\n"
     ]
    }
   ],
   "source": [
    "generate_keys()\n",
    "pubKey,privKey = load_keys()\n",
    "\n",
    "message = input('Enter a message: ')\n",
    "\n",
    "# encrypt with public key\n",
    "ciphertext = encrypt(message,pubKey)\n",
    "\n",
    "# we will sign our message with our private key,\n",
    "#so other will verify using our public key\n",
    "signature = sign_sha1(message,privKey)\n",
    "\n",
    "plaintext = decrypt(ciphertext,privKey)\n",
    "\n",
    "print(f'Cipher text: {ciphertext} \\n')\n",
    "print(f'Signature: {signature} \\n')\n",
    "\n",
    "if plaintext:\n",
    "    print(f'Plaintext: {plaintext} \\n')\n",
    "else:\n",
    "    print('Could not decrypt the message \\n')\n",
    "    \n",
    "if verify_sha1(plaintext,signature,pubKey):\n",
    "    print('Signature verified!!! \\n')\n",
    "else:\n",
    "    print('Could not verify the message signature \\n')\n"
   ]
  },
  {
   "cell_type": "code",
   "execution_count": null,
   "id": "6d1ca7da",
   "metadata": {},
   "outputs": [],
   "source": []
  }
 ],
 "metadata": {
  "kernelspec": {
   "display_name": "Python 3 (ipykernel)",
   "language": "python",
   "name": "python3"
  },
  "language_info": {
   "codemirror_mode": {
    "name": "ipython",
    "version": 3
   },
   "file_extension": ".py",
   "mimetype": "text/x-python",
   "name": "python",
   "nbconvert_exporter": "python",
   "pygments_lexer": "ipython3",
   "version": "3.9.7"
  }
 },
 "nbformat": 4,
 "nbformat_minor": 5
}
