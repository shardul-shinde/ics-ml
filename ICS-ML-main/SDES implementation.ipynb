{
 "cells": [
  {
   "cell_type": "code",
   "execution_count": 1,
   "id": "d796fb56",
   "metadata": {},
   "outputs": [
    {
     "name": "stdout",
     "output_type": "stream",
     "text": [
      "Collecting PyCryptodome\n",
      "  Downloading pycryptodome-3.14.1-cp35-abi3-win_amd64.whl (1.8 MB)\n",
      "Installing collected packages: PyCryptodome\n",
      "Successfully installed PyCryptodome-3.14.1\n"
     ]
    }
   ],
   "source": [
    "!pip install PyCryptodome"
   ]
  },
  {
   "cell_type": "code",
   "execution_count": 2,
   "id": "f38f7f8a",
   "metadata": {},
   "outputs": [],
   "source": [
    "from Crypto.Cipher import DES\n",
    "from secrets import token_bytes"
   ]
  },
  {
   "cell_type": "code",
   "execution_count": 3,
   "id": "7eb140cf",
   "metadata": {},
   "outputs": [],
   "source": [
    "key = token_bytes(8)"
   ]
  },
  {
   "cell_type": "code",
   "execution_count": 4,
   "id": "eb739ed9",
   "metadata": {},
   "outputs": [],
   "source": [
    "def encrypt(msg):\n",
    "    \"\"\"In cryptography, a nonce ( number once) is an arbitrary number that \n",
    "    can be used just once in a cryptographic communicationIn cryptography, a message authentication code (MAC), \n",
    "    sometimes known as a tag, is a short piece of information used to authenticate a message\n",
    "    \"\"\"\n",
    "    cipher = DES.new(key,DES.MODE_EAX)\n",
    "    nonce = cipher.nonce\n",
    "    ciphertext,tag = cipher.encrypt_and_digest(msg.encode('ascii'))\n",
    "    return nonce,ciphertext,tag"
   ]
  },
  {
   "cell_type": "code",
   "execution_count": 5,
   "id": "18c014b4",
   "metadata": {},
   "outputs": [],
   "source": [
    "def decrypt(nonce,ciphertext,tag):\n",
    "    cipher = DES.new(key,DES.MODE_EAX,nonce=nonce)\n",
    "    plaintext = cipher.decrypt(ciphertext)\n",
    "    \n",
    "    try:\n",
    "        cipher.verify(tag)\n",
    "        return plaintext.decode('ascii')\n",
    "    except:\n",
    "        return False\n",
    "    "
   ]
  },
  {
   "cell_type": "code",
   "execution_count": 6,
   "id": "b28b9b5e",
   "metadata": {},
   "outputs": [
    {
     "name": "stdout",
     "output_type": "stream",
     "text": [
      "Enter a message: Hello this is Nishant Inamdar\n",
      "Cipher text: b'Qb%\\x94v\\xc7M\\x06q\\x91\\xd7?\\xd9\\x88\\xfa2\\x85,bn\\xaf\\xcd\\xc0\\x94\\xcd\\xd0\\x93_\\x08'\n",
      "Plain text: Hello this is Nishant Inamdar\n"
     ]
    }
   ],
   "source": [
    "nonce,ciphertext,tag = encrypt(input(\"Enter a message: \"))\n",
    "plaintext = decrypt(nonce,ciphertext,tag)\n",
    "\n",
    "print(f'Cipher text: {ciphertext}')\n",
    "\n",
    "if not plaintext:\n",
    "    print(\"Message is corrupted!!!\")\n",
    "else:\n",
    "    print(f'Plain text: {plaintext}')"
   ]
  },
  {
   "cell_type": "code",
   "execution_count": null,
   "id": "549399a4",
   "metadata": {},
   "outputs": [],
   "source": []
  }
 ],
 "metadata": {
  "kernelspec": {
   "display_name": "Python 3 (ipykernel)",
   "language": "python",
   "name": "python3"
  },
  "language_info": {
   "codemirror_mode": {
    "name": "ipython",
    "version": 3
   },
   "file_extension": ".py",
   "mimetype": "text/x-python",
   "name": "python",
   "nbconvert_exporter": "python",
   "pygments_lexer": "ipython3",
   "version": "3.9.7"
  }
 },
 "nbformat": 4,
 "nbformat_minor": 5
}
