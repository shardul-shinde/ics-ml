{
 "cells": [
  {
   "cell_type": "code",
   "execution_count": 1,
   "id": "600ab003",
   "metadata": {},
   "outputs": [
    {
     "name": "stdout",
     "output_type": "stream",
     "text": [
      "Requirement already satisfied: tinyec in c:\\users\\nishant\\anaconda3\\lib\\site-packages (0.3.1)\n"
     ]
    }
   ],
   "source": [
    "!pip install tinyec"
   ]
  },
  {
   "cell_type": "code",
   "execution_count": 2,
   "id": "3eac50b1",
   "metadata": {},
   "outputs": [
    {
     "data": {
      "text/plain": [
       "'\\ntinyec - A tiny library to perform arithmetic operations on elliptic curves in pure python\\nsecrets — Generate secure random numbers for managing secrets\\n'"
      ]
     },
     "execution_count": 2,
     "metadata": {},
     "output_type": "execute_result"
    }
   ],
   "source": [
    "from tinyec import registry\n",
    "import secrets\n",
    "\"\"\"\n",
    "tinyec - A tiny library to perform arithmetic operations on elliptic curves in pure python\n",
    "secrets — Generate secure random numbers for managing secrets\n",
    "\"\"\""
   ]
  },
  {
   "cell_type": "code",
   "execution_count": 3,
   "id": "238d3533",
   "metadata": {},
   "outputs": [
    {
     "data": {
      "text/plain": [
       "'\\n Brainpool curves were an option for authentication and \\n key exchange in the Transport Layer Security (TLS) protocol, but currently \\n deprecated\\n'"
      ]
     },
     "execution_count": 3,
     "metadata": {},
     "output_type": "execute_result"
    }
   ],
   "source": [
    "curve = registry.get_curve('brainpoolP256r1')\n",
    "\"\"\"\n",
    " Brainpool curves were an option for authentication and \n",
    " key exchange in the Transport Layer Security (TLS) protocol, but currently \n",
    " deprecated\n",
    "\"\"\""
   ]
  },
  {
   "cell_type": "code",
   "execution_count": 4,
   "id": "48fbd7eb",
   "metadata": {},
   "outputs": [],
   "source": [
    "def compress_point(point):\n",
    "      return hex(point.x) + hex(point.y % 2)[2:]"
   ]
  },
  {
   "cell_type": "code",
   "execution_count": 5,
   "id": "2f01263e",
   "metadata": {},
   "outputs": [],
   "source": [
    "def ecc_calc_encryption_keys(pubKey):\n",
    "    \n",
    "        ciphertextPrivKey = secrets.randbelow(curve.field.n)\n",
    "        ciphertextPubKey = ciphertextPrivKey * curve.g\n",
    "        sharedECCKey = pubKey * ciphertextPrivKey\n",
    "        return (sharedECCKey,ciphertextPubKey)"
   ]
  },
  {
   "cell_type": "code",
   "execution_count": 6,
   "id": "2ed02bc2",
   "metadata": {},
   "outputs": [],
   "source": [
    "def ecc_calc_decryption_key(privKey, ciphertextPubKey):\n",
    "        sharedECCKey = ciphertextPubKey * privKey\n",
    "        return sharedECCKey"
   ]
  },
  {
   "cell_type": "code",
   "execution_count": 7,
   "id": "7b36dcc3",
   "metadata": {},
   "outputs": [
    {
     "name": "stdout",
     "output_type": "stream",
     "text": [
      "private key: 0x3239d6cc7206e49731b29fb5511a634bd231982c8f5497901a6699b75cde16b6\n",
      "public key: 0x57aadf1d13a1de6cede55cd7e572897fe5ea811a0d089f3569aa24b3170d312c0\n"
     ]
    }
   ],
   "source": [
    "privKey = secrets.randbelow(curve.field.n)\n",
    "pubKey = privKey * curve.g\n",
    "print(\"private key:\", hex(privKey))\n",
    "print(\"public key:\", compress_point(pubKey))"
   ]
  },
  {
   "cell_type": "code",
   "execution_count": 8,
   "id": "4e4139e3",
   "metadata": {
    "scrolled": true
   },
   "outputs": [
    {
     "name": "stdout",
     "output_type": "stream",
     "text": [
      "ciphertext pubKey: 0x337ac21d84bfd90ba053c486c1d6e7231cdb39a332ab16401c92db1fa6e3a2020\n"
     ]
    }
   ],
   "source": [
    "(encryptKey, ciphertextPubKey) = ecc_calc_encryption_keys(pubKey)\n",
    "print(\"ciphertext pubKey:\", compress_point(ciphertextPubKey))"
   ]
  },
  {
   "cell_type": "code",
   "execution_count": 9,
   "id": "6f9a87d6",
   "metadata": {},
   "outputs": [
    {
     "name": "stdout",
     "output_type": "stream",
     "text": [
      "encryption key: 0x1c162ddc70ceb9a3b5c820795907d07fb19b235c518ee0942380bfa3fea94860\n"
     ]
    }
   ],
   "source": [
    "print(\"encryption key:\", compress_point(encryptKey))"
   ]
  },
  {
   "cell_type": "code",
   "execution_count": 10,
   "id": "49b4a09d",
   "metadata": {},
   "outputs": [
    {
     "name": "stdout",
     "output_type": "stream",
     "text": [
      "decryption key: 0x1c162ddc70ceb9a3b5c820795907d07fb19b235c518ee0942380bfa3fea94860\n"
     ]
    }
   ],
   "source": [
    "decryptKey = ecc_calc_decryption_key(privKey, ciphertextPubKey)\n",
    "print(\"decryption key:\", compress_point(decryptKey))"
   ]
  },
  {
   "cell_type": "code",
   "execution_count": 11,
   "id": "435a95e9",
   "metadata": {},
   "outputs": [
    {
     "data": {
      "text/plain": [
       "'\\nIt is clear from the above output that the encryption key (derived from the public key) and \\nthe decryption key (derived from the corresponding private key) are the same. This is due \\nto the above discussed property of the ECC: pubKey * ciphertextPrivKey = ciphertextPubKey * privKey. \\nThese keys will be used for data encryption and decryption in an integrated encryption scheme\\n'"
      ]
     },
     "execution_count": 11,
     "metadata": {},
     "output_type": "execute_result"
    }
   ],
   "source": [
    "\"\"\"\n",
    "It is clear from the above output that the encryption key (derived from the public key) and \n",
    "the decryption key (derived from the corresponding private key) are the same. This is due \n",
    "to the above discussed property of the ECC: pubKey * ciphertextPrivKey = ciphertextPubKey * privKey. \n",
    "These keys will be used for data encryption and decryption in an integrated encryption scheme\n",
    "\"\"\""
   ]
  },
  {
   "cell_type": "code",
   "execution_count": null,
   "id": "5b0e6610",
   "metadata": {},
   "outputs": [],
   "source": []
  }
 ],
 "metadata": {
  "kernelspec": {
   "display_name": "Python 3 (ipykernel)",
   "language": "python",
   "name": "python3"
  },
  "language_info": {
   "codemirror_mode": {
    "name": "ipython",
    "version": 3
   },
   "file_extension": ".py",
   "mimetype": "text/x-python",
   "name": "python",
   "nbconvert_exporter": "python",
   "pygments_lexer": "ipython3",
   "version": "3.9.7"
  }
 },
 "nbformat": 4,
 "nbformat_minor": 5
}
